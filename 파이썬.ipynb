{
 "cells": [
  {
   "cell_type": "markdown",
   "id": "6e047098",
   "metadata": {},
   "source": [
    "# python (09.08)\n"
   ]
  },
  {
   "cell_type": "code",
   "execution_count": 1,
   "id": "4afe6b16",
   "metadata": {},
   "outputs": [
    {
     "name": "stdout",
     "output_type": "stream",
     "text": [
      "안녕하세요 for 문을 공부 중입니다.\n",
      "안녕하세요 for 문을 공부 중입니다.\n",
      "안녕하세요 for 문을 공부 중입니다.\n"
     ]
    }
   ],
   "source": [
    "for i in range(0,3,1):\n",
    "    print(\"안녕하세요 for 문을 공부 중입니다.\")"
   ]
  },
  {
   "cell_type": "code",
   "execution_count": 5,
   "id": "d5c7ddaf",
   "metadata": {},
   "outputs": [
    {
     "name": "stdout",
     "output_type": "stream",
     "text": [
      "1\n",
      "2\n",
      "3\n",
      "4\n",
      "5\n",
      "6\n",
      "7\n",
      "8\n",
      "9\n",
      "10\n"
     ]
    }
   ],
   "source": [
    "a=0\n",
    "while a<10:\n",
    "    a+=1\n",
    "    print(a)\n",
    "    \n",
    "    "
   ]
  },
  {
   "cell_type": "code",
   "execution_count": 16,
   "id": "7bebfb5d",
   "metadata": {},
   "outputs": [
    {
     "name": "stdout",
     "output_type": "stream",
     "text": [
      "ㅎ\n",
      "ㅎ\n",
      "ㅎ\n",
      "ㅎ\n",
      "ㅎ\n",
      "ㅎ\n",
      "ㅎ\n",
      "ㅎ\n",
      "ㅎ\n",
      "ㅎ\n",
      "ㅎ\n"
     ]
    }
   ],
   "source": [
    "for a in range(0,100):\n",
    "    a+=1\n",
    "    print(\"ㅎ\")\n",
    "     \n",
    "    if a > 10:\n",
    "        break\n"
   ]
  },
  {
   "cell_type": "code",
   "execution_count": 21,
   "id": "df6071a3",
   "metadata": {},
   "outputs": [],
   "source": [
    "def func1():\n",
    "    a=10\n",
    "    print(\"func1()에서 a값 %d\" %a)\n",
    "    \n",
    "\n",
    "def func2():\n",
    "    print(\"finc2()에서 a값 %d\" %a)\n",
    "    \n",
    "    \n",
    "    a=20\n",
    "    \n",
    "    func1()\n",
    "    func2()\n",
    "    "
   ]
  },
  {
   "cell_type": "code",
   "execution_count": null,
   "id": "1bf56f27",
   "metadata": {},
   "outputs": [],
   "source": []
  },
  {
   "cell_type": "code",
   "execution_count": null,
   "id": "4045e1af",
   "metadata": {},
   "outputs": [],
   "source": []
  }
 ],
 "metadata": {
  "kernelspec": {
   "display_name": "Python 3 (ipykernel)",
   "language": "python",
   "name": "python3"
  },
  "language_info": {
   "codemirror_mode": {
    "name": "ipython",
    "version": 3
   },
   "file_extension": ".py",
   "mimetype": "text/x-python",
   "name": "python",
   "nbconvert_exporter": "python",
   "pygments_lexer": "ipython3",
   "version": "3.9.12"
  }
 },
 "nbformat": 4,
 "nbformat_minor": 5
}
